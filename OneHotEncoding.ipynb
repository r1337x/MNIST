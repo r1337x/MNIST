{
 "cells": [
  {
   "cell_type": "code",
   "execution_count": 1,
   "metadata": {},
   "outputs": [
    {
     "name": "stderr",
     "output_type": "stream",
     "text": [
      "2022-10-24 19:28:54.387305: I tensorflow/core/platform/cpu_feature_guard.cc:193] This TensorFlow binary is optimized with oneAPI Deep Neural Network Library (oneDNN) to use the following CPU instructions in performance-critical operations:  AVX2 FMA\n",
      "To enable them in other operations, rebuild TensorFlow with the appropriate compiler flags.\n",
      "2022-10-24 19:28:54.549202: E tensorflow/stream_executor/cuda/cuda_blas.cc:2981] Unable to register cuBLAS factory: Attempting to register factory for plugin cuBLAS when one has already been registered\n",
      "2022-10-24 19:28:55.379696: W tensorflow/stream_executor/platform/default/dso_loader.cc:64] Could not load dynamic library 'libnvinfer.so.7'; dlerror: libnvinfer.so.7: cannot open shared object file: No such file or directory\n",
      "2022-10-24 19:28:55.379819: W tensorflow/stream_executor/platform/default/dso_loader.cc:64] Could not load dynamic library 'libnvinfer_plugin.so.7'; dlerror: libnvinfer_plugin.so.7: cannot open shared object file: No such file or directory\n",
      "2022-10-24 19:28:55.379835: W tensorflow/compiler/tf2tensorrt/utils/py_utils.cc:38] TF-TRT Warning: Cannot dlopen some TensorRT libraries. If you would like to use Nvidia GPU with TensorRT, please make sure the missing libraries mentioned above are installed properly.\n"
     ]
    }
   ],
   "source": [
    "# Imports\n",
    "from tensorflow.keras.datasets import mnist\n",
    "from tensorflow.keras.utils import to_categorical, normalize\n",
    "from tensorflow.keras.models import Sequential\n",
    "from tensorflow.keras.layers import Dense, Flatten, Conv2D\n",
    "from tensorflow.keras.losses import categorical_crossentropy\n",
    "from tensorflow.keras.optimizers import Adam\n",
    "import numpy as np"
   ]
  },
  {
   "cell_type": "code",
   "execution_count": 2,
   "metadata": {},
   "outputs": [
    {
     "name": "stdout",
     "output_type": "stream",
     "text": [
      "(60000, 28, 28)\n",
      "(60000,)\n",
      "(10000, 28, 28)\n",
      "(10000,)\n"
     ]
    }
   ],
   "source": [
    "\n",
    "(X_train, y_train), (X_test, y_test) = mnist.load_data()\n",
    "\n",
    "print(X_train.shape)\n",
    "print(y_train.shape)\n",
    "print(X_test.shape)\n",
    "print(y_test.shape)"
   ]
  },
  {
   "cell_type": "code",
   "execution_count": 3,
   "metadata": {},
   "outputs": [
    {
     "name": "stdout",
     "output_type": "stream",
     "text": [
      "3\n",
      "()\n"
     ]
    }
   ],
   "source": [
    "index = 130\n",
    "print(y_train[index])\n",
    "print(y_train[index].shape)"
   ]
  },
  {
   "cell_type": "markdown",
   "metadata": {},
   "source": [
    "We can see that the actual value for index 130 is 3 - meaning that it represents the number 3. The shape is () and hence we are really talking about a scalar value."
   ]
  },
  {
   "cell_type": "markdown",
   "metadata": {},
   "source": [
    "We can use tensorflow.keras.utils.to_categorical module which is similar to SciKit Learns OneHotEncoder module. It will allow us to convert integer targets into categorical and hence one-hot encoded ones"
   ]
  },
  {
   "cell_type": "code",
   "execution_count": 4,
   "metadata": {},
   "outputs": [
    {
     "name": "stdout",
     "output_type": "stream",
     "text": [
      "[0. 0. 0. 1. 0. 0. 0. 0. 0. 0.]\n",
      "(10,)\n"
     ]
    }
   ],
   "source": [
    "y_train = to_categorical(y_train)\n",
    "y_test = to_categorical(y_test)\n",
    "\n",
    "print(y_train[index])\n",
    "print(y_train[index].shape)"
   ]
  },
  {
   "cell_type": "markdown",
   "metadata": {},
   "source": [
    "We can  see that our target vector has ten values."
   ]
  },
  {
   "cell_type": "code",
   "execution_count": 5,
   "metadata": {},
   "outputs": [],
   "source": [
    "# Load dataset\n",
    "(X_train, y_train), (X_test, y_test) = mnist.load_data()\n",
    "\n",
    "# Convert targets into one-hot encoded format\n",
    "y_train = to_categorical(y_train)\n",
    "y_test = to_categorical(y_test)"
   ]
  },
  {
   "cell_type": "code",
   "execution_count": 6,
   "metadata": {},
   "outputs": [],
   "source": [
    "# Load dataset\n",
    "(X_train, y_train), (X_test, y_test) = mnist.load_data()"
   ]
  },
  {
   "cell_type": "code",
   "execution_count": 7,
   "metadata": {},
   "outputs": [],
   "source": [
    "# Configuration options\n",
    "no_classes = len(np.unique(y_train))\n",
    "img_width, img_height = 28, 28\n",
    "validation_split = 0.20\n",
    "no_epochs = 25\n",
    "verbosity = 1\n",
    "batch_size = 250\n",
    "\n",
    "# Reshape data\n",
    "X_train = X_train.reshape(X_train.shape[0], img_width, img_height, 1)\n",
    "X_test =  X_test.reshape(X_test.shape[0], img_width, img_height, 1)\n",
    "input_shape = (img_width, img_height, 1)"
   ]
  },
  {
   "cell_type": "code",
   "execution_count": 8,
   "metadata": {},
   "outputs": [],
   "source": [
    "# Convert targets into one-hot encoded format\n",
    "y_train = to_categorical(y_train)\n",
    "y_test = to_categorical(y_test)"
   ]
  },
  {
   "cell_type": "code",
   "execution_count": 9,
   "metadata": {},
   "outputs": [],
   "source": [
    "# Normalize the data\n",
    "X_train = normalize(X_train)\n",
    "X_test = normalize(X_test)"
   ]
  },
  {
   "cell_type": "code",
   "execution_count": 10,
   "metadata": {},
   "outputs": [
    {
     "name": "stderr",
     "output_type": "stream",
     "text": [
      "2022-10-24 19:29:00.198011: I tensorflow/core/platform/cpu_feature_guard.cc:193] This TensorFlow binary is optimized with oneAPI Deep Neural Network Library (oneDNN) to use the following CPU instructions in performance-critical operations:  AVX2 FMA\n",
      "To enable them in other operations, rebuild TensorFlow with the appropriate compiler flags.\n",
      "2022-10-24 19:29:00.802435: I tensorflow/core/common_runtime/gpu/gpu_device.cc:1616] Created device /job:localhost/replica:0/task:0/device:GPU:0 with 10787 MB memory:  -> device: 0, name: Tesla K80, pci bus id: 0001:00:00.0, compute capability: 3.7\n"
     ]
    },
    {
     "name": "stdout",
     "output_type": "stream",
     "text": [
      "Epoch 1/25\n"
     ]
    },
    {
     "name": "stderr",
     "output_type": "stream",
     "text": [
      "2022-10-24 19:29:06.314298: I tensorflow/stream_executor/cuda/cuda_dnn.cc:384] Loaded cuDNN version 8400\n",
      "2022-10-24 19:29:29.762983: I tensorflow/core/platform/default/subprocess.cc:304] Start cannot spawn child process: No such file or directory\n"
     ]
    },
    {
     "name": "stdout",
     "output_type": "stream",
     "text": [
      "192/192 [==============================] - 45s 39ms/step - loss: 0.1923 - accuracy: 0.9405 - val_loss: 0.0753 - val_accuracy: 0.9758\n",
      "Epoch 2/25\n",
      "192/192 [==============================] - 7s 37ms/step - loss: 0.0538 - accuracy: 0.9824 - val_loss: 0.0706 - val_accuracy: 0.9783\n",
      "Epoch 3/25\n",
      "192/192 [==============================] - 7s 37ms/step - loss: 0.0279 - accuracy: 0.9915 - val_loss: 0.0622 - val_accuracy: 0.9823\n",
      "Epoch 4/25\n",
      "192/192 [==============================] - 7s 38ms/step - loss: 0.0154 - accuracy: 0.9952 - val_loss: 0.0689 - val_accuracy: 0.9826\n",
      "Epoch 5/25\n",
      "192/192 [==============================] - 7s 38ms/step - loss: 0.0085 - accuracy: 0.9973 - val_loss: 0.0823 - val_accuracy: 0.9810\n",
      "Epoch 6/25\n",
      "192/192 [==============================] - 7s 38ms/step - loss: 0.0061 - accuracy: 0.9980 - val_loss: 0.0843 - val_accuracy: 0.9809\n",
      "Epoch 7/25\n",
      "192/192 [==============================] - 7s 38ms/step - loss: 0.0065 - accuracy: 0.9976 - val_loss: 0.0829 - val_accuracy: 0.9812\n",
      "Epoch 8/25\n",
      "192/192 [==============================] - 7s 37ms/step - loss: 0.0043 - accuracy: 0.9987 - val_loss: 0.0783 - val_accuracy: 0.9833\n",
      "Epoch 9/25\n",
      "192/192 [==============================] - 7s 38ms/step - loss: 0.0033 - accuracy: 0.9989 - val_loss: 0.0914 - val_accuracy: 0.9823\n",
      "Epoch 10/25\n",
      "192/192 [==============================] - 7s 38ms/step - loss: 0.0023 - accuracy: 0.9992 - val_loss: 0.0837 - val_accuracy: 0.9843\n",
      "Epoch 11/25\n",
      "192/192 [==============================] - 7s 37ms/step - loss: 0.0035 - accuracy: 0.9990 - val_loss: 0.1070 - val_accuracy: 0.9799\n",
      "Epoch 12/25\n",
      "192/192 [==============================] - 7s 39ms/step - loss: 0.0061 - accuracy: 0.9981 - val_loss: 0.0911 - val_accuracy: 0.9823\n",
      "Epoch 13/25\n",
      "192/192 [==============================] - 7s 38ms/step - loss: 0.0044 - accuracy: 0.9986 - val_loss: 0.0864 - val_accuracy: 0.9823\n",
      "Epoch 14/25\n",
      "192/192 [==============================] - 7s 38ms/step - loss: 0.0037 - accuracy: 0.9988 - val_loss: 0.0943 - val_accuracy: 0.9820\n",
      "Epoch 15/25\n",
      "192/192 [==============================] - 7s 38ms/step - loss: 0.0019 - accuracy: 0.9995 - val_loss: 0.0922 - val_accuracy: 0.9832\n",
      "Epoch 16/25\n",
      "192/192 [==============================] - 7s 38ms/step - loss: 3.7636e-04 - accuracy: 0.9999 - val_loss: 0.0963 - val_accuracy: 0.9837\n",
      "Epoch 17/25\n",
      "192/192 [==============================] - 7s 37ms/step - loss: 5.2801e-05 - accuracy: 1.0000 - val_loss: 0.0977 - val_accuracy: 0.9852\n",
      "Epoch 18/25\n",
      "192/192 [==============================] - 7s 38ms/step - loss: 1.6528e-05 - accuracy: 1.0000 - val_loss: 0.0990 - val_accuracy: 0.9851\n",
      "Epoch 19/25\n",
      "192/192 [==============================] - 7s 38ms/step - loss: 1.0991e-05 - accuracy: 1.0000 - val_loss: 0.1005 - val_accuracy: 0.9852\n",
      "Epoch 20/25\n",
      "192/192 [==============================] - 7s 39ms/step - loss: 8.6026e-06 - accuracy: 1.0000 - val_loss: 0.1019 - val_accuracy: 0.9852\n",
      "Epoch 21/25\n",
      "192/192 [==============================] - 7s 38ms/step - loss: 7.0660e-06 - accuracy: 1.0000 - val_loss: 0.1032 - val_accuracy: 0.9852\n",
      "Epoch 22/25\n",
      "192/192 [==============================] - 7s 37ms/step - loss: 5.8977e-06 - accuracy: 1.0000 - val_loss: 0.1043 - val_accuracy: 0.9852\n",
      "Epoch 23/25\n",
      "192/192 [==============================] - 7s 39ms/step - loss: 5.0089e-06 - accuracy: 1.0000 - val_loss: 0.1054 - val_accuracy: 0.9853\n",
      "Epoch 24/25\n",
      "192/192 [==============================] - 7s 38ms/step - loss: 4.3166e-06 - accuracy: 1.0000 - val_loss: 0.1065 - val_accuracy: 0.9853\n",
      "Epoch 25/25\n",
      "192/192 [==============================] - 7s 38ms/step - loss: 3.7431e-06 - accuracy: 1.0000 - val_loss: 0.1076 - val_accuracy: 0.9853\n"
     ]
    },
    {
     "data": {
      "text/plain": [
       "<keras.callbacks.History at 0x7f199b790bb0>"
      ]
     },
     "execution_count": 10,
     "metadata": {},
     "output_type": "execute_result"
    }
   ],
   "source": [
    "# Create the model\n",
    "model = Sequential()\n",
    "model.add(Conv2D(32, kernel_size=(3, 3), activation='relu', input_shape=input_shape))\n",
    "model.add(Conv2D(64, kernel_size=(3, 3), activation='relu'))\n",
    "model.add(Flatten())\n",
    "model.add(Dense(256, activation='relu'))\n",
    "model.add(Dense(no_classes, activation='softmax'))\n",
    "\n",
    "# Compile the model\n",
    "model.compile(loss=categorical_crossentropy,\n",
    "              optimizer=Adam(),\n",
    "              metrics=['accuracy'])\n",
    "\n",
    "# Fit data to model\n",
    "model.fit(X_train, y_train,\n",
    "          batch_size=batch_size,\n",
    "          epochs=no_epochs,\n",
    "          verbose=verbosity,\n",
    "          validation_split=validation_split)"
   ]
  },
  {
   "cell_type": "markdown",
   "metadata": {},
   "source": [
    "# Conclusion\n",
    "Training Machine Learning models requires numeric data. In order to use categorical target variables in your model or a Neural Network, you might have to one-hot encode your target data.\n",
    "\n",
    "In this example Tensorflow & Keras was used for one-hot encoding a dataset. Specifically, using the TensorFlow to_categorical function, we converted integer based targets for the MNIST dataset into one-hot encoded targets."
   ]
  }
 ],
 "metadata": {
  "kernelspec": {
   "display_name": "Python 3.8.14 ('ICE-1-q6TKyRMv')",
   "language": "python",
   "name": "python3"
  },
  "language_info": {
   "codemirror_mode": {
    "name": "ipython",
    "version": 3
   },
   "file_extension": ".py",
   "mimetype": "text/x-python",
   "name": "python",
   "nbconvert_exporter": "python",
   "pygments_lexer": "ipython3",
   "version": "3.8.14"
  },
  "orig_nbformat": 4,
  "vscode": {
   "interpreter": {
    "hash": "f824ef6e8eb8821ac53b51d72785d84f019823d7e562e628d50ed4f23698d219"
   }
  }
 },
 "nbformat": 4,
 "nbformat_minor": 2
}
